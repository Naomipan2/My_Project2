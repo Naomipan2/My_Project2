{
 "cells": [
  {
   "cell_type": "code",
   "execution_count": 1,
   "metadata": {},
   "outputs": [],
   "source": [
    "import pandas as pd\n",
    "import numpy as np\n",
    "import streamlit as st\n",
    "import plotly.express as px\n",
    "import seaborn as sns\n",
    "import matplotlib.pyplot as plt"
   ]
  },
  {
   "cell_type": "code",
   "execution_count": 2,
   "metadata": {},
   "outputs": [],
   "source": [
    "df = pd.read_csv('vehicles_us.csv')\n",
    "\n",
    "#Data Correction\n",
    "df['date_posted'] = pd.to_datetime(df['date_posted'], format ='%Y-%m-%d')\n",
    "df.isnull().sum()\n",
    "df.fillna(0,inplace=True)\n",
    "df.drop_duplicates(inplace=True)\n",
    "df['model_year'] = df['model_year'].astype(int)"
   ]
  },
  {
   "cell_type": "code",
   "execution_count": 3,
   "metadata": {},
   "outputs": [],
   "source": [
    "#Data Enrichment \n",
    "df[['brand', 'model_type']] = df['model'].str.extract(r'(\\w+)\\s+(.+)')\n",
    "\n",
    "#Rearrange the order for the column\n",
    "last_two_cols = df.columns[-2:]\n",
    "new_order = list(last_two_cols) + [col for col in df.columns if col not in last_two_cols]\n",
    "df = df[new_order]\n",
    "\n"
   ]
  }
 ],
 "metadata": {
  "kernelspec": {
   "display_name": "myenv",
   "language": "python",
   "name": "python3"
  },
  "language_info": {
   "codemirror_mode": {
    "name": "ipython",
    "version": 3
   },
   "file_extension": ".py",
   "mimetype": "text/x-python",
   "name": "python",
   "nbconvert_exporter": "python",
   "pygments_lexer": "ipython3",
   "version": "3.12.0"
  }
 },
 "nbformat": 4,
 "nbformat_minor": 2
}
