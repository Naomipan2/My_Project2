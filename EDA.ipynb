{
 "cells": [
  {
   "cell_type": "code",
   "execution_count": 9,
   "metadata": {},
   "outputs": [],
   "source": [
    "import pandas as pd\n",
    "import numpy as np\n",
    "import streamlit as st\n",
    "import plotly.express as px\n",
    "import seaborn as sns\n",
    "import matplotlib.pyplot as plt"
   ]
  },
  {
   "cell_type": "code",
   "execution_count": 10,
   "metadata": {},
   "outputs": [],
   "source": [
    "df = pd.read_csv('vehicles_us.csv')\n",
    "\n",
    "#Data Correction\n",
    "df['date_posted'] = pd.to_datetime(df['date_posted'], format ='%Y-%m-%d')\n",
    "df.isnull().sum()\n",
    "df.fillna(0,inplace=True)\n",
    "df.drop_duplicates(inplace=True)\n",
    "df['model_year'] = df['model_year'].astype(int)"
   ]
  },
  {
   "cell_type": "code",
   "execution_count": 11,
   "metadata": {},
   "outputs": [],
   "source": [
    "#Data Enrichment \n",
    "df[['brand', 'model_type']] = df['model'].str.extract(r'(\\w+)\\s+(.+)')\n",
    "\n",
    "#Rearrange the order for the column\n",
    "last_two_cols = df.columns[-2:]\n",
    "new_order = list(last_two_cols) + [col for col in df.columns if col not in last_two_cols]\n",
    "df = df[new_order]"
   ]
  },
  {
   "cell_type": "code",
   "execution_count": 12,
   "metadata": {},
   "outputs": [],
   "source": [
    "col_to_move = 'model'\n",
    "cols = [col for col in df.columns if col != col_to_move]\n",
    "cols.append(col_to_move)\n",
    "df = df[cols]"
   ]
  },
  {
   "cell_type": "code",
   "execution_count": 13,
   "metadata": {},
   "outputs": [],
   "source": [
    "#Data viewing\n",
    "brand_choice = df['brand'].unique()"
   ]
  },
  {
   "cell_type": "code",
   "execution_count": 14,
   "metadata": {},
   "outputs": [
    {
     "name": "stderr",
     "output_type": "stream",
     "text": [
      "2024-09-30 11:07:38.953 WARNING streamlit.runtime.scriptrunner_utils.script_run_context: Thread 'MainThread': missing ScriptRunContext! This warning can be ignored when running in bare mode.\n",
      "2024-09-30 11:07:38.957 WARNING streamlit.runtime.scriptrunner_utils.script_run_context: Thread 'MainThread': missing ScriptRunContext! This warning can be ignored when running in bare mode.\n",
      "2024-09-30 11:07:38.960 WARNING streamlit.runtime.scriptrunner_utils.script_run_context: Thread 'MainThread': missing ScriptRunContext! This warning can be ignored when running in bare mode.\n",
      "2024-09-30 11:07:38.964 WARNING streamlit.runtime.scriptrunner_utils.script_run_context: Thread 'MainThread': missing ScriptRunContext! This warning can be ignored when running in bare mode.\n",
      "2024-09-30 11:07:39.820 WARNING streamlit.runtime.scriptrunner_utils.script_run_context: Thread 'MainThread': missing ScriptRunContext! This warning can be ignored when running in bare mode.\n",
      "2024-09-30 11:07:39.827 WARNING streamlit.runtime.scriptrunner_utils.script_run_context: Thread 'MainThread': missing ScriptRunContext! This warning can be ignored when running in bare mode.\n",
      "2024-09-30 11:07:39.829 WARNING streamlit.runtime.scriptrunner_utils.script_run_context: Thread 'MainThread': missing ScriptRunContext! This warning can be ignored when running in bare mode.\n"
     ]
    },
    {
     "data": {
      "text/plain": [
       "DeltaGenerator()"
      ]
     },
     "execution_count": 14,
     "metadata": {},
     "output_type": "execute_result"
    }
   ],
   "source": [
    "# Sidebar controls for vehicle types selection\n",
    "vehicle_types = df['type'].unique()  # Extract the unique vehicle types\n",
    "selected_types = st.sidebar.multiselect('Select Vehicle Types to Display', vehicle_types, default=vehicle_types)\n",
    "\n",
    "# Filter the DataFrame based on the selected vehicle types\n",
    "df_filtered = df[df['type'].isin(selected_types)]  # Filter rows based on 'type' values\n",
    "\n",
    "# Create the Plotly figure with the selected vehicle types\n",
    "fig = px.bar(df_filtered, x='brand', y='price', color='type', barmode='stack',\n",
    "             title=\"Vehicle Types by Manufacturer\", labels={'price': 'Price', 'brand': 'Manufacturer'})\n",
    "\n",
    "# Customize the layout for better readability\n",
    "fig.update_layout(\n",
    "    xaxis_title='Manufacturer',\n",
    "    yaxis_title='Price',\n",
    "    legend_title_text='Vehicle Type'\n",
    ")\n",
    "\n",
    "# Display the plot\n",
    "st.plotly_chart(fig, use_container_width=True)"
   ]
  },
  {
   "cell_type": "code",
   "execution_count": 15,
   "metadata": {},
   "outputs": [
    {
     "name": "stderr",
     "output_type": "stream",
     "text": [
      "2024-09-30 11:07:39.885 WARNING streamlit.runtime.scriptrunner_utils.script_run_context: Thread 'MainThread': missing ScriptRunContext! This warning can be ignored when running in bare mode.\n",
      "2024-09-30 11:07:39.890 WARNING streamlit.runtime.scriptrunner_utils.script_run_context: Thread 'MainThread': missing ScriptRunContext! This warning can be ignored when running in bare mode.\n",
      "2024-09-30 11:07:39.902 WARNING streamlit.runtime.scriptrunner_utils.script_run_context: Thread 'MainThread': missing ScriptRunContext! This warning can be ignored when running in bare mode.\n",
      "2024-09-30 11:07:39.906 WARNING streamlit.runtime.scriptrunner_utils.script_run_context: Thread 'MainThread': missing ScriptRunContext! This warning can be ignored when running in bare mode.\n"
     ]
    },
    {
     "name": "stderr",
     "output_type": "stream",
     "text": [
      "2024-09-30 11:07:40.119 WARNING streamlit.runtime.scriptrunner_utils.script_run_context: Thread 'MainThread': missing ScriptRunContext! This warning can be ignored when running in bare mode.\n",
      "2024-09-30 11:07:40.123 WARNING streamlit.runtime.scriptrunner_utils.script_run_context: Thread 'MainThread': missing ScriptRunContext! This warning can be ignored when running in bare mode.\n",
      "2024-09-30 11:07:40.126 WARNING streamlit.runtime.scriptrunner_utils.script_run_context: Thread 'MainThread': missing ScriptRunContext! This warning can be ignored when running in bare mode.\n"
     ]
    },
    {
     "data": {
      "text/plain": [
       "DeltaGenerator()"
      ]
     },
     "execution_count": 15,
     "metadata": {},
     "output_type": "execute_result"
    }
   ],
   "source": [
    "condition_choice = df['condition'].unique()\n",
    "selecte_condition = st.sidebar.multiselect('Select Condition', condition_choice, default=condition_choice)\n",
    "\n",
    "df = df[df['model_year'] > 0]\n",
    "fig1 = px.histogram(df, x='model_year', color='condition', barmode='overlay', nbins=50,\n",
    "                   title='Histogram of Condition vs Model Year')\n",
    "\n",
    "# Customize the layout for better visualization\n",
    "fig1.update_layout(\n",
    "    xaxis_title='Model Year',\n",
    "    yaxis_title='Count',\n",
    "    legend_title_text='Condition',\n",
    "    hovermode='x unified'\n",
    ")\n",
    "\n",
    "# Display the Plotly chart in Streamlit\n",
    "st.plotly_chart(fig1, use_container_width=True)"
   ]
  },
  {
   "cell_type": "code",
   "execution_count": 16,
   "metadata": {},
   "outputs": [
    {
     "name": "stderr",
     "output_type": "stream",
     "text": [
      "2024-09-30 11:07:40.174 WARNING streamlit.runtime.scriptrunner_utils.script_run_context: Thread 'MainThread': missing ScriptRunContext! This warning can be ignored when running in bare mode.\n",
      "2024-09-30 11:07:40.178 WARNING streamlit.runtime.scriptrunner_utils.script_run_context: Thread 'MainThread': missing ScriptRunContext! This warning can be ignored when running in bare mode.\n",
      "2024-09-30 11:07:40.183 WARNING streamlit.runtime.scriptrunner_utils.script_run_context: Thread 'MainThread': missing ScriptRunContext! This warning can be ignored when running in bare mode.\n",
      "2024-09-30 11:07:40.186 WARNING streamlit.runtime.scriptrunner_utils.script_run_context: Thread 'MainThread': missing ScriptRunContext! This warning can be ignored when running in bare mode.\n",
      "2024-09-30 11:07:40.190 WARNING streamlit.runtime.scriptrunner_utils.script_run_context: Thread 'MainThread': missing ScriptRunContext! This warning can be ignored when running in bare mode.\n",
      "2024-09-30 11:07:40.209 WARNING streamlit.runtime.scriptrunner_utils.script_run_context: Thread 'MainThread': missing ScriptRunContext! This warning can be ignored when running in bare mode.\n",
      "2024-09-30 11:07:40.213 WARNING streamlit.runtime.scriptrunner_utils.script_run_context: Thread 'MainThread': missing ScriptRunContext! This warning can be ignored when running in bare mode.\n",
      "2024-09-30 11:07:40.216 WARNING streamlit.runtime.scriptrunner_utils.script_run_context: Thread 'MainThread': missing ScriptRunContext! This warning can be ignored when running in bare mode.\n",
      "2024-09-30 11:07:40.222 WARNING streamlit.runtime.scriptrunner_utils.script_run_context: Thread 'MainThread': missing ScriptRunContext! This warning can be ignored when running in bare mode.\n",
      "2024-09-30 11:07:40.226 WARNING streamlit.runtime.scriptrunner_utils.script_run_context: Thread 'MainThread': missing ScriptRunContext! This warning can be ignored when running in bare mode.\n",
      "2024-09-30 11:07:40.230 WARNING streamlit.runtime.scriptrunner_utils.script_run_context: Thread 'MainThread': missing ScriptRunContext! This warning can be ignored when running in bare mode.\n",
      "2024-09-30 11:07:40.233 WARNING streamlit.runtime.scriptrunner_utils.script_run_context: Thread 'MainThread': missing ScriptRunContext! This warning can be ignored when running in bare mode.\n",
      "2024-09-30 11:07:40.236 WARNING streamlit.runtime.scriptrunner_utils.script_run_context: Thread 'MainThread': missing ScriptRunContext! This warning can be ignored when running in bare mode.\n",
      "2024-09-30 11:07:40.242 WARNING streamlit.runtime.scriptrunner_utils.script_run_context: Thread 'MainThread': missing ScriptRunContext! This warning can be ignored when running in bare mode.\n",
      "2024-09-30 11:07:40.352 WARNING streamlit.runtime.scriptrunner_utils.script_run_context: Thread 'MainThread': missing ScriptRunContext! This warning can be ignored when running in bare mode.\n",
      "2024-09-30 11:07:40.354 WARNING streamlit.runtime.scriptrunner_utils.script_run_context: Thread 'MainThread': missing ScriptRunContext! This warning can be ignored when running in bare mode.\n",
      "2024-09-30 11:07:40.356 WARNING streamlit.runtime.scriptrunner_utils.script_run_context: Thread 'MainThread': missing ScriptRunContext! This warning can be ignored when running in bare mode.\n"
     ]
    },
    {
     "data": {
      "text/plain": [
       "DeltaGenerator()"
      ]
     },
     "execution_count": 16,
     "metadata": {},
     "output_type": "execute_result"
    }
   ],
   "source": [
    "manufacturer_1 = st.selectbox(\"Select manufacturer 1\", df['brand'].unique())\n",
    "manufacturer_2 = st.selectbox(\"Select manufacturer 2\", df['brand'].unique())\n",
    "\n",
    "# Checkbox to normalize the histogram\n",
    "normalize = st.checkbox(\"Normalize histogram\")\n",
    "\n",
    "# Filter the data based on the selected manufacturers\n",
    "df_filtered1 = df[df['brand'].isin([manufacturer_1, manufacturer_2])]\n",
    "\n",
    "\n",
    "# Plot histogram for price distibution between manufacturers\n",
    "fig2 = px.histogram(\n",
    "    df_filtered1, \n",
    "    x='price', \n",
    "    color='brand', \n",
    "    barmode='overlay',\n",
    "    histnorm='percent' if normalize else None,  # Normalize if checkbox is checked\n",
    "    title=\"Price Distribution by Manufacturer\"\n",
    ")\n",
    "\n",
    "# Customize layout\n",
    "fig2.update_layout(\n",
    "    xaxis_title='Price',\n",
    "    yaxis_title='Percent' if normalize else 'Count',\n",
    "    legend_title_text='Manufacturer',\n",
    "    hovermode='x unified'\n",
    ")\n",
    "\n",
    "# Display the plot\n",
    "st.plotly_chart(fig2, use_container_width=True)\n"
   ]
  }
 ],
 "metadata": {
  "kernelspec": {
   "display_name": "myenv",
   "language": "python",
   "name": "python3"
  },
  "language_info": {
   "codemirror_mode": {
    "name": "ipython",
    "version": 3
   },
   "file_extension": ".py",
   "mimetype": "text/x-python",
   "name": "python",
   "nbconvert_exporter": "python",
   "pygments_lexer": "ipython3",
   "version": "3.12.0"
  }
 },
 "nbformat": 4,
 "nbformat_minor": 2
}
